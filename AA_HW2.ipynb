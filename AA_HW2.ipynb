{
 "cells": [
  {
   "cell_type": "code",
   "execution_count": 1,
   "metadata": {},
   "outputs": [],
   "source": [
    "import numpy as np\n",
    "from sklearn import datasets\n",
    "import matplotlib.pyplot as plt\n",
    "%matplotlib inline\n",
    "import warnings\n",
    "warnings.filterwarnings('ignore')"
   ]
  },
  {
   "cell_type": "markdown",
   "metadata": {},
   "source": [
    "### Задание 1"
   ]
  },
  {
   "cell_type": "markdown",
   "metadata": {},
   "source": [
    "Сгенерировать датасет при помощи sklearn.datasets.make_regression и обучить линейную модель при помощи градиентного и стохастического градиентного спуска. Нанести среднеквадратичную ошибку для обоих методов на один график, сделать выводы о разнице скорости сходимости каждого из методов."
   ]
  },
  {
   "cell_type": "code",
   "execution_count": 2,
   "metadata": {},
   "outputs": [],
   "source": [
    "# сгенерируем набор данных\n",
    "X, y, coef = datasets.make_regression(n_samples=1000, n_features = 2, n_informative = 2, n_targets = 1, \n",
    "                                      noise = 5, coef = True, random_state = 2)"
   ]
  },
  {
   "cell_type": "code",
   "execution_count": 3,
   "metadata": {},
   "outputs": [],
   "source": [
    "# реализуем функцию, определяющую среднеквадратичную ошибку\n",
    "def mserror(X, w, y_pred):\n",
    "    y = X.dot(w)\n",
    "    return (sum((y - y_pred)**2)) / len(y)"
   ]
  },
  {
   "cell_type": "markdown",
   "metadata": {},
   "source": [
    "#### Обучим линейную модель при помощи градиентного спуска:"
   ]
  },
  {
   "cell_type": "code",
   "execution_count": 4,
   "metadata": {},
   "outputs": [
    {
     "name": "stdout",
     "output_type": "stream",
     "text": [
      "В случае использования градиентного спуска функционал ошибки составляет 26.4259\n"
     ]
    }
   ],
   "source": [
    "np.random.seed(1234)\n",
    "\n",
    "# инициализируем начальный вектор весов\n",
    "w = np.zeros(2)\n",
    "\n",
    "# список векторов весов после каждой итерации\n",
    "w_list = [w.copy()]\n",
    "\n",
    "# список значений ошибок после каждой итерации\n",
    "errors = []\n",
    "\n",
    "# шаг градиентного спуска\n",
    "eta = 0.01\n",
    "\n",
    "# максимальное число итераций\n",
    "max_iter = 1e4\n",
    "\n",
    "# критерий сходимости (разница весов, при которой алгоритм останавливается)\n",
    "min_weight_dist = 1e-8\n",
    "\n",
    "# зададим начальную разницу весов большим числом\n",
    "weight_dist = np.inf\n",
    "\n",
    "# счётчик итераций\n",
    "iter_num = 0\n",
    "\n",
    "# ход градиентного спуска\n",
    "while weight_dist > min_weight_dist and iter_num < max_iter:\n",
    "    new_w = w - 2 * eta * np.dot(X.T, (np.dot(X, w) - y)) / y.shape[0]\n",
    "    weight_dist = np.linalg.norm(new_w - w, ord = 2)\n",
    "    \n",
    "    w_list.append(new_w.copy())\n",
    "    errors.append(mserror(X, new_w, y))\n",
    "    \n",
    "    iter_num += 1\n",
    "    w = new_w\n",
    "    \n",
    "w_list = np.array(w_list)\n",
    "\n",
    "print(f'В случае использования градиентного спуска функционал ошибки составляет {round(errors[-1], 4)}')"
   ]
  },
  {
   "cell_type": "markdown",
   "metadata": {},
   "source": [
    "#### Обучим линейную модель при помощи стохастического градиентного спуска:"
   ]
  },
  {
   "cell_type": "code",
   "execution_count": 5,
   "metadata": {},
   "outputs": [
    {
     "name": "stdout",
     "output_type": "stream",
     "text": [
      "В случае использования стохастического градиентного спуска функционал ошибки составляет 457.0203\n"
     ]
    }
   ],
   "source": [
    "np.random.seed(1234)\n",
    "\n",
    "# инициализируем начальный вектор весов\n",
    "w_sgd = np.zeros(2)\n",
    "\n",
    "# список векторов весов после каждой итерации\n",
    "w_list_sgd = [w_sgd.copy()]\n",
    "\n",
    "# список значений ошибок после каждой итерации\n",
    "errors_sgd = []\n",
    "\n",
    "# шаг градиентного спуска\n",
    "eta_sgd = 0.01\n",
    "\n",
    "# максимальное число итераций\n",
    "max_iter_sgd = 1e5\n",
    "\n",
    "# критерий сходимости (разница весов, при которой алгоритм останавливается)\n",
    "min_weight_dist_sgd = 1e-8\n",
    "\n",
    "# зададим начальную разницу весов большим числом\n",
    "weight_dist_sgd = np.inf\n",
    "\n",
    "# счётчик итераций\n",
    "iter_num_sgd = 0\n",
    "\n",
    "# ход стохастического градиентного спуска\n",
    "while weight_dist_sgd > min_weight_dist_sgd and iter_num_sgd < max_iter_sgd:\n",
    "    \n",
    "    # генерируем случайный индекс объекта выборки\n",
    "    train_ind_sgd = np.random.randint(X.shape[0])\n",
    "    \n",
    "    new_w_sgd = w_sgd - 2 * eta_sgd * np.dot(X[train_ind_sgd].T, (np.dot(X[train_ind_sgd], w_sgd) - y[train_ind_sgd])) / y.shape[0]\n",
    "\n",
    "    weight_dist_sgd = np.linalg.norm(new_w_sgd - w_sgd, ord = 2)\n",
    "    \n",
    "    w_list_sgd.append(new_w_sgd.copy())\n",
    "    errors_sgd.append(mserror(X, new_w_sgd, y))\n",
    "    \n",
    "    iter_num_sgd += 1\n",
    "    w_sgd = new_w_sgd\n",
    "    \n",
    "w_list_sgd = np.array(w_list_sgd)\n",
    "\n",
    "print(f'В случае использования стохастического градиентного спуска функционал ошибки составляет {round(errors_sgd[-1], 4)}')"
   ]
  },
  {
   "cell_type": "markdown",
   "metadata": {},
   "source": [
    "#### Визуализируем изменение функционала ошибки"
   ]
  },
  {
   "cell_type": "code",
   "execution_count": 6,
   "metadata": {},
   "outputs": [
    {
     "data": {
      "text/plain": [
       "Text(0, 0.5, 'MSE')"
      ]
     },
     "execution_count": 6,
     "metadata": {},
     "output_type": "execute_result"
    },
    {
     "data": {
      "image/png": "[encoded data removed]",
      "text/plain": [
       "<Figure size 432x288 with 1 Axes>"
      ]
     },
     "metadata": {
      "needs_background": "light"
     },
     "output_type": "display_data"
    }
   ],
   "source": [
    "plt.plot(range(len(errors)), errors)\n",
    "plt.plot(range(len(errors_sgd)), errors_sgd)\n",
    "plt.title('MSE')\n",
    "plt.xlabel('Iteration number')\n",
    "plt.ylabel('MSE')"
   ]
  },
  {
   "cell_type": "code",
   "execution_count": 7,
   "metadata": {},
   "outputs": [
    {
     "data": {
      "text/plain": [
       "986"
      ]
     },
     "execution_count": 7,
     "metadata": {},
     "output_type": "execute_result"
    }
   ],
   "source": [
    "len(errors)"
   ]
  },
  {
   "cell_type": "code",
   "execution_count": 8,
   "metadata": {},
   "outputs": [
    {
     "data": {
      "text/plain": [
       "75746"
      ]
     },
     "execution_count": 8,
     "metadata": {},
     "output_type": "execute_result"
    }
   ],
   "source": [
    "len(errors_sgd)"
   ]
  },
  {
   "cell_type": "code",
   "execution_count": 9,
   "metadata": {},
   "outputs": [
    {
     "data": {
      "text/plain": [
       "77"
      ]
     },
     "execution_count": 9,
     "metadata": {},
     "output_type": "execute_result"
    }
   ],
   "source": [
    "difference = round(len(errors_sgd) / len(errors))\n",
    "difference"
   ]
  },
  {
   "cell_type": "code",
   "execution_count": 10,
   "metadata": {},
   "outputs": [
    {
     "name": "stdout",
     "output_type": "stream",
     "text": [
      "Соответственно, скорость сходимости градиентного спуска превышает скорость сходимости стохастического градиентного спуска в 77 раз.\n"
     ]
    }
   ],
   "source": [
    "print(f'Соответственно, скорость сходимости градиентного спуска превышает скорость сходимости стохастического градиентного спуска в {difference} раз.')"
   ]
  },
  {
   "cell_type": "markdown",
   "metadata": {},
   "source": [
    "### Задание 2"
   ]
  },
  {
   "cell_type": "markdown",
   "metadata": {},
   "source": [
    "Модифицировать решение первого задания путём добавления L2-регуляризации и сравнить результаты."
   ]
  },
  {
   "cell_type": "code",
   "execution_count": 11,
   "metadata": {},
   "outputs": [
    {
     "name": "stdout",
     "output_type": "stream",
     "text": [
      "В случае использования L2-регуляризации функционал ошибки составляет 270.5771\n"
     ]
    }
   ],
   "source": [
    "np.random.seed(1234)\n",
    "\n",
    "# инициализируем начальный вектор весов\n",
    "w_l2 = np.zeros(2)\n",
    "\n",
    "# список векторов весов после каждой итерации\n",
    "w_list_l2 = [w_l2.copy()]\n",
    "\n",
    "# список значений ошибок после каждой итерации\n",
    "errors_l2 = []\n",
    "\n",
    "# шаг градиентного спуска\n",
    "eta_l2 = 0.01\n",
    "\n",
    "# максимальное число итераций\n",
    "max_iter_l2 = 1e5\n",
    "\n",
    "# критерий сходимости (разница весов, при которой алгоритм останавливается)\n",
    "min_weight_dist_l2 = 1e-8\n",
    "\n",
    "# зададим начальную разницу весов большим числом\n",
    "weight_dist_l2 = np.inf\n",
    "\n",
    "# счётчик итераций\n",
    "iter_num_l2 = 0\n",
    "\n",
    "# зададим коэффициент регуляризации\n",
    "lambda_ = 1e-4\n",
    "\n",
    "# ход стохастического градиентного спуска с L2-регуляризацией\n",
    "while weight_dist_l2 > min_weight_dist_l2 and iter_num_l2 < max_iter_l2:\n",
    "    \n",
    "    # генерируем случайный индекс объекта выборки\n",
    "    train_ind_l2 = np.random.randint(X.shape[0])\n",
    "    \n",
    "    new_w_l2 = w_l2 - eta_l2 * (2 * np.dot(X[train_ind_l2].T, (np.dot(X[train_ind_l2], w_l2) - y[train_ind_l2])) / y.shape[0] + lambda_ * w_l2)\n",
    "        \n",
    "    weight_dist_l2 = np.linalg.norm(new_w_l2 - w_l2, ord = 2)\n",
    "    \n",
    "    w_list_l2.append(new_w_l2.copy())\n",
    "    errors_l2.append(mserror(X, new_w_l2, y))\n",
    "    \n",
    "    iter_num_l2 += 1\n",
    "    w_l2 = new_w_l2\n",
    "    \n",
    "w_list_l2 = np.array(w_list_l2)\n",
    "\n",
    "print(f'В случае использования L2-регуляризации функционал ошибки составляет {round(errors_l2[-1], 4)}')"
   ]
  },
  {
   "cell_type": "code",
   "execution_count": 12,
   "metadata": {},
   "outputs": [
    {
     "data": {
      "text/plain": [
       "Text(0, 0.5, 'MSE')"
      ]
     },
     "execution_count": 12,
     "metadata": {},
     "output_type": "execute_result"
    },
    {
     "data": {
      "image/png": "[encoded data removed]",
      "text/plain": [
       "<Figure size 432x288 with 1 Axes>"
      ]
     },
     "metadata": {
      "needs_background": "light"
     },
     "output_type": "display_data"
    }
   ],
   "source": [
    "# Визуализируем изменение функционала ошибки\n",
    "plt.plot(range(len(errors)), errors)\n",
    "plt.plot(range(len(errors_sgd)), errors_sgd)\n",
    "plt.plot(range(len(errors_l2)), errors_l2)\n",
    "plt.title('MSE')\n",
    "plt.xlabel('Iteration number')\n",
    "plt.ylabel('MSE')"
   ]
  },
  {
   "cell_type": "code",
   "execution_count": 13,
   "metadata": {},
   "outputs": [
    {
     "data": {
      "text/plain": [
       "75746"
      ]
     },
     "execution_count": 13,
     "metadata": {},
     "output_type": "execute_result"
    }
   ],
   "source": [
    "len(errors_sgd)"
   ]
  },
  {
   "cell_type": "code",
   "execution_count": 14,
   "metadata": {},
   "outputs": [
    {
     "data": {
      "text/plain": [
       "100000"
      ]
     },
     "execution_count": 14,
     "metadata": {},
     "output_type": "execute_result"
    }
   ],
   "source": [
    "len(errors_l2)"
   ]
  },
  {
   "cell_type": "code",
   "execution_count": 15,
   "metadata": {},
   "outputs": [
    {
     "data": {
      "text/plain": [
       "1.3202017268238586"
      ]
     },
     "execution_count": 15,
     "metadata": {},
     "output_type": "execute_result"
    }
   ],
   "source": [
    "difference_l2 = len(errors_l2) / len(errors_sgd)\n",
    "difference_l2"
   ]
  },
  {
   "cell_type": "markdown",
   "metadata": {},
   "source": [
    "Использовать L2-регуляризацию полезно, поскольку функционал ошибки ниже, чем если взять обычный стохастический градиентный спуск (примерно в 2 раза). Скорость сходимости медленнее, но незначительно."
   ]
  },
  {
   "cell_type": "code",
   "execution_count": null,
   "metadata": {},
   "outputs": [],
   "source": []
  }
 ],
 "metadata": {
  "kernelspec": {
   "display_name": "Python 3",
   "language": "python",
   "name": "python3"
  },
  "language_info": {
   "codemirror_mode": {
    "name": "ipython",
    "version": 3
   },
   "file_extension": ".py",
   "mimetype": "text/x-python",
   "name": "python",
   "nbconvert_exporter": "python",
   "pygments_lexer": "ipython3",
   "version": "3.7.6"
  }
 },
 "nbformat": 4,
 "nbformat_minor": 4
}
