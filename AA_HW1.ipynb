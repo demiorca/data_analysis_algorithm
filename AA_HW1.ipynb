{
 "cells": [
  {
   "cell_type": "code",
   "execution_count": 1,
   "metadata": {},
   "outputs": [],
   "source": [
    "import numpy as np\n",
    "import matplotlib.pyplot as plt\n",
    "import warnings\n",
    "warnings.filterwarnings('ignore')"
   ]
  },
  {
   "cell_type": "markdown",
   "metadata": {},
   "source": [
    "### Задание 1"
   ]
  },
  {
   "cell_type": "code",
   "execution_count": 2,
   "metadata": {},
   "outputs": [],
   "source": [
    "# реализуем функцию, определяющую среднеквадратичную ошибку\n",
    "def mserror(X, w, y_pred):\n",
    "    y = X.dot(w)\n",
    "    return (sum((y - y_pred)**2)) / len(y)"
   ]
  },
  {
   "cell_type": "code",
   "execution_count": 3,
   "metadata": {},
   "outputs": [],
   "source": [
    "# реализуем функцию, чтобы в дальнейшем использовать разные значения alpha для подсчёта количества итераций\n",
    "def gradient(alpha):\n",
    "    \n",
    "    np.random.seed(1234)\n",
    "    \n",
    "    # Возьмём 2 признака и 1000 объектов\n",
    "    n_features = 2\n",
    "    n_objects = 1000\n",
    "\n",
    "    # сгенерируем вектор истинных весов\n",
    "    w_true = np.random.normal(size=(n_features, ))\n",
    "\n",
    "    # сгенерируем матрицу X, вычислим Y с добавлением случайного шума\n",
    "    X = np.random.uniform(-7, 7, (n_objects, n_features))\n",
    "    Y = X.dot(w_true) + np.random.normal(0, 0.5, size=(n_objects))\n",
    "\n",
    "    # возьмём нулевые начальные веса\n",
    "    w = np.zeros(n_features)\n",
    "\n",
    "    # список векторов весов после каждой итерации\n",
    "    w_list = [w.copy()]\n",
    "\n",
    "    # список значений ошибок после каждой итерации\n",
    "    errors = []\n",
    "\n",
    "    # максимальное число итераций\n",
    "    max_iter = 1e4\n",
    "\n",
    "    # критерий сходимости (разница весов, при которой алгоритм останавливается)\n",
    "    min_weight_dist = 1e-8\n",
    "\n",
    "    # зададим начальную разницу весов большим числом\n",
    "    weight_dist = np.inf\n",
    "\n",
    "    # счётчик итераций\n",
    "    iter_num = 0\n",
    "\n",
    "    # ход градиентного спуска\n",
    "    while weight_dist > min_weight_dist and iter_num < max_iter:\n",
    "        new_w = w - 2 * alpha * np.dot(X.T, (np.dot(X, w) - Y)) / Y.shape[0]\n",
    "        weight_dist = np.linalg.norm(new_w - w, ord=2)\n",
    "\n",
    "        w_list.append(new_w.copy())\n",
    "        errors.append(mserror(X, new_w, Y))\n",
    "\n",
    "        iter_num += 1\n",
    "        w = new_w\n",
    "\n",
    "    w_list = np.array(w_list)\n",
    "    \n",
    "    return iter_num"
   ]
  },
  {
   "cell_type": "code",
   "execution_count": 4,
   "metadata": {},
   "outputs": [
    {
     "name": "stdout",
     "output_type": "stream",
     "text": [
      "При alpha = 1 количество итераций составляет 199\n",
      "При alpha = 0.7 количество итераций составляет 221\n",
      "При alpha = 0.5 количество итераций составляет 248\n",
      "При alpha = 0.3 количество итераций составляет 307\n",
      "При alpha = 0.1 количество итераций составляет 719\n",
      "При alpha = 0.07 количество итераций составляет 1571\n",
      "При alpha = 0.05 количество итераций составляет 99\n",
      "При alpha = 0.03 количество итераций составляет 9\n",
      "При alpha = 0.01 количество итераций составляет 47\n",
      "При alpha = 0.007 количество итераций составляет 69\n",
      "При alpha = 0.005 количество итераций составляет 98\n",
      "При alpha = 0.003 количество итераций составляет 163\n",
      "При alpha = 0.001 количество итераций составляет 469\n",
      "При alpha = 0.0007 количество итераций составляет 658\n",
      "При alpha = 0.0005 количество итераций составляет 902\n",
      "При alpha = 0.0003 количество итераций составляет 1454\n",
      "При alpha = 0.0001 количество итераций составляет 4030\n"
     ]
    }
   ],
   "source": [
    "alphas = [1, 0.7, 0.5, 0.3, 0.1, 0.07, 0.05, 0.03, 0.01, 0.007, 0.005, 0.003, 0.001, 0.0007, 0.0005, 0.0003, 0.0001]\n",
    "\n",
    "for alpha in alphas:\n",
    "    iter_num = gradient(alpha)\n",
    "    print(f'При alpha = {alpha} количество итераций составляет {iter_num}')"
   ]
  },
  {
   "cell_type": "markdown",
   "metadata": {},
   "source": [
    "Исходя из этой задачи можно сделать вывод о том, что более оптимальным значением alpha будет 0.03, так как количество итераций составляет всего 9, что меньше, чем если взять больший или меньший alpha."
   ]
  },
  {
   "cell_type": "markdown",
   "metadata": {},
   "source": [
    "### Задание 2"
   ]
  },
  {
   "cell_type": "code",
   "execution_count": 5,
   "metadata": {},
   "outputs": [],
   "source": [
    "np.random.seed(1234)  \n",
    "n_features = 2\n",
    "n_objects = 1000\n",
    "w_true = np.random.normal(size=(n_features, ))\n",
    "X = np.random.uniform(-7, 7, (n_objects, n_features))\n",
    "y = X.dot(w_true) + np.random.normal(0, 0.5, size=(n_objects))\n",
    "W = np.zeros(n_features)\n",
    "n = y.shape[0]"
   ]
  },
  {
   "cell_type": "code",
   "execution_count": 6,
   "metadata": {},
   "outputs": [],
   "source": [
    "def calc_mse(y, y_pred):\n",
    "    return (sum((y - y_pred)**2)) / len(y)"
   ]
  },
  {
   "cell_type": "code",
   "execution_count": 7,
   "metadata": {},
   "outputs": [
    {
     "name": "stdout",
     "output_type": "stream",
     "text": [
      "0 [ 0.00134776 -0.00388575] 26.370797444846797\n",
      "100 [ 0.11859314 -0.33431871] 13.90902514115335\n",
      "200 [ 0.2068109  -0.57195185] 7.395948889602884\n",
      "300 [ 0.27300699 -0.74291148] 3.98915940262686\n",
      "400 [ 0.32255777 -0.86594928] 2.2058315464308125\n",
      "500 [ 0.35956767 -0.95452966] 1.2716758061311797\n",
      "600 [ 0.38715614 -1.01832457] 0.7820249992516553\n",
      "700 [ 0.40768479 -1.06428455] 0.5252154980910545\n",
      "800 [ 0.42293538 -1.09740637] 0.3904518196842528\n",
      "900 [ 0.43424815 -1.12128367] 0.3196975143797239\n"
     ]
    }
   ],
   "source": [
    "for i in range(1000):\n",
    "    y_pred = np.dot(X, W) # ошибка здесь, поменял местами аргументы\n",
    "    err = calc_mse(y, y_pred)\n",
    "    W -= (alpha * (1/n * 2 * np.dot(X.T, (y_pred - y)))) # ещё одна ошибка здесь, немного изменил формулу\n",
    "    if i % 100 == 0:\n",
    "        print(i, W, err)"
   ]
  },
  {
   "cell_type": "code",
   "execution_count": null,
   "metadata": {},
   "outputs": [],
   "source": []
  }
 ],
 "metadata": {
  "kernelspec": {
   "display_name": "Python 3",
   "language": "python",
   "name": "python3"
  },
  "language_info": {
   "codemirror_mode": {
    "name": "ipython",
    "version": 3
   },
   "file_extension": ".py",
   "mimetype": "text/x-python",
   "name": "python",
   "nbconvert_exporter": "python",
   "pygments_lexer": "ipython3",
   "version": "3.7.6"
  }
 },
 "nbformat": 4,
 "nbformat_minor": 4
}
