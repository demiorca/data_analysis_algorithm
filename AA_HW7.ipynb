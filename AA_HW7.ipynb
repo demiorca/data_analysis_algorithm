{
 "cells": [
  {
   "cell_type": "code",
   "execution_count": 1,
   "metadata": {},
   "outputs": [],
   "source": [
    "import numpy as np\n",
    "from sklearn import model_selection\n",
    "from sklearn.datasets import load_iris\n",
    "import matplotlib.pyplot as plt\n",
    "from matplotlib.colors import ListedColormap"
   ]
  },
  {
   "cell_type": "markdown",
   "metadata": {},
   "source": [
    "#### Задание 1. К алгоритму kNN, реализованному на уроке, реализовать добавление весов для соседей в зависимости от номера соседа."
   ]
  },
  {
   "cell_type": "markdown",
   "metadata": {},
   "source": [
    "#### Задание 2. К алгоритму kNN, реализованному на уроке, реализовать добавление весов для соседей в зависимости от расстояния до соседа. Сравнить метрики качества и сложность разделяющей гиперплоскости. Сделать выводы."
   ]
  },
  {
   "cell_type": "code",
   "execution_count": 2,
   "metadata": {},
   "outputs": [],
   "source": [
    "X, y = load_iris(return_X_y=True)\n",
    "\n",
    "# Для наглядности возьмем только первые два признака (всего в датасете их 4)\n",
    "X = X[:, :2]"
   ]
  },
  {
   "cell_type": "code",
   "execution_count": 3,
   "metadata": {},
   "outputs": [],
   "source": [
    "X_train, X_test, y_train, y_test = model_selection.train_test_split(X, y, test_size=0.2, random_state=1)"
   ]
  },
  {
   "cell_type": "code",
   "execution_count": 4,
   "metadata": {},
   "outputs": [
    {
     "data": {
      "text/plain": [
       "<matplotlib.collections.PathCollection at 0x1eb531378c8>"
      ]
     },
     "execution_count": 4,
     "metadata": {},
     "output_type": "execute_result"
    },
    {
     "data": {
      "image/png": "[encoded data removed]",
      "text/plain": [
       "<Figure size 504x504 with 1 Axes>"
      ]
     },
     "metadata": {
      "needs_background": "light"
     },
     "output_type": "display_data"
    }
   ],
   "source": [
    "cmap = ListedColormap(['red', 'green', 'blue'])\n",
    "plt.figure(figsize=(7, 7))\n",
    "plt.scatter(X[:, 0], X[:, 1], c=y, cmap=cmap)"
   ]
  },
  {
   "cell_type": "code",
   "execution_count": 5,
   "metadata": {},
   "outputs": [],
   "source": [
    "def e_metrics(x1, x2):\n",
    "    \n",
    "    distance = 0\n",
    "    for i in range(len(x1)):\n",
    "        distance += np.square(x1[i] - x2[i])\n",
    "    \n",
    "    return np.sqrt(distance)"
   ]
  },
  {
   "cell_type": "code",
   "execution_count": 6,
   "metadata": {},
   "outputs": [],
   "source": [
    "def weights(w, q, i, distance):\n",
    "    \n",
    "    # реализуем расчёт веса в зависимости от номера соседа\n",
    "    if w == 'neighbor_weight':\n",
    "        return q ** i\n",
    "    \n",
    "    # реализуем расчёт веса в зависимости от расстояния до соседа\n",
    "    elif w == 'dist_weight':\n",
    "        return q ** distance\n",
    "    \n",
    "    else:\n",
    "        return 1"
   ]
  },
  {
   "cell_type": "code",
   "execution_count": 7,
   "metadata": {},
   "outputs": [],
   "source": [
    "def knn(x_train, y_train, x_test, k, w, q):\n",
    "    \n",
    "    answers = []\n",
    "    for x in x_test:\n",
    "        test_distances = []\n",
    "            \n",
    "        for i in range(len(x_train)):\n",
    "            \n",
    "            # расчет расстояния от классифицируемого объекта до\n",
    "            # объекта обучающей выборки\n",
    "            distance = e_metrics(x, x_train[i])\n",
    "            \n",
    "            # Записываем в список значение расстояния и ответа на объекте обучающей выборки\n",
    "            test_distances.append((distance, y_train[i]))\n",
    "        \n",
    "        # создаем словарь со всеми возможными классами\n",
    "        classes = {class_item: 0 for class_item in set(y_train)}\n",
    "        \n",
    "        # сортируем список и среди первых k элементов подсчитаем частоту появления разных классов (с индексом),\n",
    "        # возвращаем классы, учитывая веса\n",
    "        for i, d in enumerate(sorted(test_distances)[0:k]):\n",
    "            classes[d[1]] += weights(w, q, i, d[0])\n",
    "            \n",
    "        # записываем в список ответов наиболее часто встречающийся класс\n",
    "        answers.append(sorted(classes, key=classes.get)[-1])\n",
    "    return answers"
   ]
  },
  {
   "cell_type": "code",
   "execution_count": 8,
   "metadata": {},
   "outputs": [],
   "source": [
    "def accuracy(pred, y):\n",
    "    return (sum(pred == y) / len(y))"
   ]
  },
  {
   "cell_type": "code",
   "execution_count": 9,
   "metadata": {},
   "outputs": [],
   "source": [
    "def get_graph(X_train, y_train, k, w, q):\n",
    "    cmap_light = ListedColormap(['#FFAAAA', '#AAFFAA','#00AAFF'])\n",
    "\n",
    "    h = .02\n",
    "\n",
    "    # Расчет пределов графика\n",
    "    x_min, x_max = X_train[:, 0].min() - 1, X_train[:, 0].max() + 1\n",
    "    y_min, y_max = X_train[:, 1].min() - 1, X_train[:, 1].max() + 1\n",
    "    xx, yy = np.meshgrid(np.arange(x_min, x_max, h), np.arange(y_min, y_max, h))\n",
    "\n",
    "    # Получим предсказания для всех точек\n",
    "    Z = knn(X_train, y_train, np.c_[xx.ravel(), yy.ravel()], k, w, q)\n",
    "\n",
    "    # Построим график\n",
    "    Z = np.array(Z).reshape(xx.shape)\n",
    "    plt.figure(figsize=(7,7))\n",
    "    plt.pcolormesh(xx, yy, Z, cmap=cmap_light)\n",
    "\n",
    "    # Добавим на график обучающую выборку\n",
    "    plt.scatter(X_train[:, 0], X_train[:, 1], c=y_train, cmap=cmap)\n",
    "    plt.xlim(xx.min(), xx.max())\n",
    "    plt.ylim(yy.min(), yy.max())\n",
    "    plt.title(f\"Трехклассовая kNN классификация при k = {k}\")\n",
    "    plt.show()"
   ]
  },
  {
   "cell_type": "markdown",
   "metadata": {},
   "source": [
    "#### Проверим точность. Сперва по соседям:"
   ]
  },
  {
   "cell_type": "markdown",
   "metadata": {},
   "source": [
    "При k = 1:"
   ]
  },
  {
   "cell_type": "code",
   "execution_count": 10,
   "metadata": {},
   "outputs": [
    {
     "name": "stdout",
     "output_type": "stream",
     "text": [
      "Точность алгоритма при k = 1 и добавлении весов для соседей в зависимости от номера соседа: 0.667\n"
     ]
    }
   ],
   "source": [
    "k = 1\n",
    "q = 0.5\n",
    "w = 'neighbor_weight'\n",
    "\n",
    "y_pred = knn(X_train, y_train, X_test, k, w, q)\n",
    "\n",
    "print(f'Точность алгоритма при k = {k} и добавлении весов для соседей в зависимости от номера соседа: {accuracy(y_pred, y_test):.3f}')"
   ]
  },
  {
   "cell_type": "code",
   "execution_count": 11,
   "metadata": {},
   "outputs": [
    {
     "name": "stdout",
     "output_type": "stream",
     "text": [
      "Точность алгоритма при k = 1 и добавлении весов для соседей в зависимости от номера соседа: 0.667\n"
     ]
    }
   ],
   "source": [
    "k = 1\n",
    "q = 0.75\n",
    "w = 'neighbor_weight'\n",
    "\n",
    "y_pred = knn(X_train, y_train, X_test, k, w, q)\n",
    "\n",
    "print(f'Точность алгоритма при k = {k} и добавлении весов для соседей в зависимости от номера соседа: {accuracy(y_pred, y_test):.3f}')"
   ]
  },
  {
   "cell_type": "code",
   "execution_count": 12,
   "metadata": {},
   "outputs": [
    {
     "name": "stdout",
     "output_type": "stream",
     "text": [
      "Точность алгоритма при k = 1 и добавлении весов для соседей в зависимости от номера соседа: 0.667\n"
     ]
    }
   ],
   "source": [
    "k = 1\n",
    "q = 1\n",
    "w = 'neighbor_weight'\n",
    "\n",
    "y_pred = knn(X_train, y_train, X_test, k, w, q)\n",
    "\n",
    "print(f'Точность алгоритма при k = {k} и добавлении весов для соседей в зависимости от номера соседа: {accuracy(y_pred, y_test):.3f}')"
   ]
  },
  {
   "cell_type": "markdown",
   "metadata": {},
   "source": [
    "При k = 3:"
   ]
  },
  {
   "cell_type": "code",
   "execution_count": 13,
   "metadata": {},
   "outputs": [
    {
     "name": "stdout",
     "output_type": "stream",
     "text": [
      "Точность алгоритма при k = 3 и добавлении весов для соседей в зависимости от номера соседа: 0.667\n"
     ]
    }
   ],
   "source": [
    "k = 3\n",
    "q = 0.5\n",
    "w = 'neighbor_weight'\n",
    "\n",
    "y_pred = knn(X_train, y_train, X_test, k, w, q)\n",
    "\n",
    "print(f'Точность алгоритма при k = {k} и добавлении весов для соседей в зависимости от номера соседа: {accuracy(y_pred, y_test):.3f}')"
   ]
  },
  {
   "cell_type": "code",
   "execution_count": 14,
   "metadata": {},
   "outputs": [
    {
     "name": "stdout",
     "output_type": "stream",
     "text": [
      "Точность алгоритма при k = 3 и добавлении весов для соседей в зависимости от номера соседа: 0.733\n"
     ]
    }
   ],
   "source": [
    "k = 3\n",
    "q = 0.75\n",
    "w = 'neighbor_weight'\n",
    "\n",
    "y_pred = knn(X_train, y_train, X_test, k, w, q)\n",
    "\n",
    "print(f'Точность алгоритма при k = {k} и добавлении весов для соседей в зависимости от номера соседа: {accuracy(y_pred, y_test):.3f}')"
   ]
  },
  {
   "cell_type": "code",
   "execution_count": 15,
   "metadata": {},
   "outputs": [
    {
     "name": "stdout",
     "output_type": "stream",
     "text": [
      "Точность алгоритма при k = 3 и добавлении весов для соседей в зависимости от номера соседа: 0.733\n"
     ]
    }
   ],
   "source": [
    "k = 3\n",
    "q = 1\n",
    "w = 'neighbor_weight'\n",
    "\n",
    "y_pred = knn(X_train, y_train, X_test, k, w, q)\n",
    "\n",
    "print(f'Точность алгоритма при k = {k} и добавлении весов для соседей в зависимости от номера соседа: {accuracy(y_pred, y_test):.3f}')"
   ]
  },
  {
   "cell_type": "markdown",
   "metadata": {},
   "source": [
    "При k = 5:"
   ]
  },
  {
   "cell_type": "code",
   "execution_count": 16,
   "metadata": {},
   "outputs": [
    {
     "name": "stdout",
     "output_type": "stream",
     "text": [
      "Точность алгоритма при k = 5 и добавлении весов для соседей в зависимости от номера соседа: 0.667\n"
     ]
    }
   ],
   "source": [
    "k = 5\n",
    "q = 0.5\n",
    "w = 'neighbor_weight'\n",
    "\n",
    "y_pred = knn(X_train, y_train, X_test, k, w, q)\n",
    "\n",
    "print(f'Точность алгоритма при k = {k} и добавлении весов для соседей в зависимости от номера соседа: {accuracy(y_pred, y_test):.3f}')"
   ]
  },
  {
   "cell_type": "code",
   "execution_count": 17,
   "metadata": {},
   "outputs": [
    {
     "name": "stdout",
     "output_type": "stream",
     "text": [
      "Точность алгоритма при k = 5 и добавлении весов для соседей в зависимости от номера соседа: 0.733\n"
     ]
    }
   ],
   "source": [
    "k = 5\n",
    "q = 0.75\n",
    "w = 'neighbor_weight'\n",
    "\n",
    "y_pred = knn(X_train, y_train, X_test, k, w, q)\n",
    "\n",
    "print(f'Точность алгоритма при k = {k} и добавлении весов для соседей в зависимости от номера соседа: {accuracy(y_pred, y_test):.3f}')"
   ]
  },
  {
   "cell_type": "code",
   "execution_count": 18,
   "metadata": {},
   "outputs": [
    {
     "name": "stdout",
     "output_type": "stream",
     "text": [
      "Точность алгоритма при k = 5 и добавлении весов для соседей в зависимости от номера соседа: 0.867\n"
     ]
    }
   ],
   "source": [
    "k = 5\n",
    "q = 1\n",
    "w = 'neighbor_weight'\n",
    "\n",
    "y_pred = knn(X_train, y_train, X_test, k, w, q)\n",
    "\n",
    "print(f'Точность алгоритма при k = {k} и добавлении весов для соседей в зависимости от номера соседа: {accuracy(y_pred, y_test):.3f}')"
   ]
  },
  {
   "cell_type": "markdown",
   "metadata": {},
   "source": [
    "При k = 10:"
   ]
  },
  {
   "cell_type": "code",
   "execution_count": 19,
   "metadata": {},
   "outputs": [
    {
     "name": "stdout",
     "output_type": "stream",
     "text": [
      "Точность алгоритма при k = 10 и добавлении весов для соседей в зависимости от номера соседа: 0.667\n"
     ]
    }
   ],
   "source": [
    "k = 10\n",
    "q = 0.5\n",
    "w = 'neighbor_weight'\n",
    "\n",
    "y_pred = knn(X_train, y_train, X_test, k, w, q)\n",
    "\n",
    "print(f'Точность алгоритма при k = {k} и добавлении весов для соседей в зависимости от номера соседа: {accuracy(y_pred, y_test):.3f}')"
   ]
  },
  {
   "cell_type": "code",
   "execution_count": 20,
   "metadata": {},
   "outputs": [
    {
     "name": "stdout",
     "output_type": "stream",
     "text": [
      "Точность алгоритма при k = 10 и добавлении весов для соседей в зависимости от номера соседа: 0.767\n"
     ]
    }
   ],
   "source": [
    "k = 10\n",
    "q = 0.75\n",
    "w = 'neighbor_weight'\n",
    "\n",
    "y_pred = knn(X_train, y_train, X_test, k, w, q)\n",
    "\n",
    "print(f'Точность алгоритма при k = {k} и добавлении весов для соседей в зависимости от номера соседа: {accuracy(y_pred, y_test):.3f}')"
   ]
  },
  {
   "cell_type": "code",
   "execution_count": 21,
   "metadata": {},
   "outputs": [
    {
     "name": "stdout",
     "output_type": "stream",
     "text": [
      "Точность алгоритма при k = 10 и добавлении весов для соседей в зависимости от номера соседа: 0.833\n"
     ]
    }
   ],
   "source": [
    "k = 10\n",
    "q = 1\n",
    "w = 'neighbor_weight'\n",
    "\n",
    "y_pred = knn(X_train, y_train, X_test, k, w, q)\n",
    "\n",
    "print(f'Точность алгоритма при k = {k} и добавлении весов для соседей в зависимости от номера соседа: {accuracy(y_pred, y_test):.3f}')"
   ]
  },
  {
   "cell_type": "markdown",
   "metadata": {},
   "source": [
    "Видим, что при k = 5 и q = 1 самый высокий результат (0.867)."
   ]
  },
  {
   "cell_type": "code",
   "execution_count": 22,
   "metadata": {},
   "outputs": [
    {
     "data": {
      "image/png": "[encoded data removed]",
      "text/plain": [
       "<Figure size 504x504 with 1 Axes>"
      ]
     },
     "metadata": {
      "needs_background": "light"
     },
     "output_type": "display_data"
    }
   ],
   "source": [
    "get_graph(X_train, y_train, k = 5, w = 'neighbor_weight', q = 1)"
   ]
  },
  {
   "cell_type": "markdown",
   "metadata": {},
   "source": [
    "#### Теперь расстояние:"
   ]
  },
  {
   "cell_type": "markdown",
   "metadata": {},
   "source": [
    "При k = 1:"
   ]
  },
  {
   "cell_type": "code",
   "execution_count": 23,
   "metadata": {},
   "outputs": [
    {
     "name": "stdout",
     "output_type": "stream",
     "text": [
      "Точность алгоритма при k = 1 и добавлении весов для соседей в зависимости от расстояния до соседа: 0.667\n"
     ]
    }
   ],
   "source": [
    "k = 1\n",
    "q = 0.5\n",
    "w = 'dist_weight'\n",
    "\n",
    "y_pred = knn(X_train, y_train, X_test, k, w, q)\n",
    "\n",
    "print(f'Точность алгоритма при k = {k} и добавлении весов для соседей в зависимости от расстояния до соседа: {accuracy(y_pred, y_test):.3f}')"
   ]
  },
  {
   "cell_type": "code",
   "execution_count": 24,
   "metadata": {},
   "outputs": [
    {
     "name": "stdout",
     "output_type": "stream",
     "text": [
      "Точность алгоритма при k = 1 и добавлении весов для соседей в зависимости от расстояния до соседа: 0.667\n"
     ]
    }
   ],
   "source": [
    "k = 1\n",
    "q = 0.75\n",
    "w = 'dist_weight'\n",
    "\n",
    "y_pred = knn(X_train, y_train, X_test, k, w, q)\n",
    "\n",
    "print(f'Точность алгоритма при k = {k} и добавлении весов для соседей в зависимости от расстояния до соседа: {accuracy(y_pred, y_test):.3f}')"
   ]
  },
  {
   "cell_type": "code",
   "execution_count": 25,
   "metadata": {},
   "outputs": [
    {
     "name": "stdout",
     "output_type": "stream",
     "text": [
      "Точность алгоритма при k = 1 и добавлении весов для соседей в зависимости от расстояния до соседа: 0.667\n"
     ]
    }
   ],
   "source": [
    "k = 1\n",
    "q = 1\n",
    "w = 'dist_weight'\n",
    "\n",
    "y_pred = knn(X_train, y_train, X_test, k, w, q)\n",
    "\n",
    "print(f'Точность алгоритма при k = {k} и добавлении весов для соседей в зависимости от расстояния до соседа: {accuracy(y_pred, y_test):.3f}')"
   ]
  },
  {
   "cell_type": "markdown",
   "metadata": {},
   "source": [
    "При k = 3:"
   ]
  },
  {
   "cell_type": "code",
   "execution_count": 26,
   "metadata": {},
   "outputs": [
    {
     "name": "stdout",
     "output_type": "stream",
     "text": [
      "Точность алгоритма при k = 3 и добавлении весов для соседей в зависимости от расстояния до соседа: 0.733\n"
     ]
    }
   ],
   "source": [
    "k = 3\n",
    "q = 0.5\n",
    "w = 'dist_weight'\n",
    "\n",
    "y_pred = knn(X_train, y_train, X_test, k, w, q)\n",
    "\n",
    "print(f'Точность алгоритма при k = {k} и добавлении весов для соседей в зависимости от расстояния до соседа: {accuracy(y_pred, y_test):.3f}')"
   ]
  },
  {
   "cell_type": "code",
   "execution_count": 27,
   "metadata": {},
   "outputs": [
    {
     "name": "stdout",
     "output_type": "stream",
     "text": [
      "Точность алгоритма при k = 3 и добавлении весов для соседей в зависимости от расстояния до соседа: 0.733\n"
     ]
    }
   ],
   "source": [
    "k = 3\n",
    "q = 0.75\n",
    "w = 'dist_weight'\n",
    "\n",
    "y_pred = knn(X_train, y_train, X_test, k, w, q)\n",
    "\n",
    "print(f'Точность алгоритма при k = {k} и добавлении весов для соседей в зависимости от расстояния до соседа: {accuracy(y_pred, y_test):.3f}')"
   ]
  },
  {
   "cell_type": "code",
   "execution_count": 28,
   "metadata": {},
   "outputs": [
    {
     "name": "stdout",
     "output_type": "stream",
     "text": [
      "Точность алгоритма при k = 3 и добавлении весов для соседей в зависимости от расстояния до соседа: 0.733\n"
     ]
    }
   ],
   "source": [
    "k = 3\n",
    "q = 1\n",
    "w = 'dist_weight'\n",
    "\n",
    "y_pred = knn(X_train, y_train, X_test, k, w, q)\n",
    "\n",
    "print(f'Точность алгоритма при k = {k} и добавлении весов для соседей в зависимости от расстояния до соседа: {accuracy(y_pred, y_test):.3f}')"
   ]
  },
  {
   "cell_type": "markdown",
   "metadata": {},
   "source": [
    "При k = 5:"
   ]
  },
  {
   "cell_type": "code",
   "execution_count": 29,
   "metadata": {},
   "outputs": [
    {
     "name": "stdout",
     "output_type": "stream",
     "text": [
      "Точность алгоритма при k = 5 и добавлении весов для соседей в зависимости от расстояния до соседа: 0.867\n"
     ]
    }
   ],
   "source": [
    "k = 5\n",
    "q = 0.5\n",
    "w = 'dist_weight'\n",
    "\n",
    "y_pred = knn(X_train, y_train, X_test, k, w, q)\n",
    "\n",
    "print(f'Точность алгоритма при k = {k} и добавлении весов для соседей в зависимости от расстояния до соседа: {accuracy(y_pred, y_test):.3f}')"
   ]
  },
  {
   "cell_type": "code",
   "execution_count": 30,
   "metadata": {},
   "outputs": [
    {
     "name": "stdout",
     "output_type": "stream",
     "text": [
      "Точность алгоритма при k = 5 и добавлении весов для соседей в зависимости от расстояния до соседа: 0.867\n"
     ]
    }
   ],
   "source": [
    "k = 5\n",
    "q = 0.75\n",
    "w = 'dist_weight'\n",
    "\n",
    "y_pred = knn(X_train, y_train, X_test, k, w, q)\n",
    "\n",
    "print(f'Точность алгоритма при k = {k} и добавлении весов для соседей в зависимости от расстояния до соседа: {accuracy(y_pred, y_test):.3f}')"
   ]
  },
  {
   "cell_type": "code",
   "execution_count": 31,
   "metadata": {},
   "outputs": [
    {
     "name": "stdout",
     "output_type": "stream",
     "text": [
      "Точность алгоритма при k = 5 и добавлении весов для соседей в зависимости от расстояния до соседа: 0.867\n"
     ]
    }
   ],
   "source": [
    "k = 5\n",
    "q = 1\n",
    "w = 'dist_weight'\n",
    "\n",
    "y_pred = knn(X_train, y_train, X_test, k, w, q)\n",
    "\n",
    "print(f'Точность алгоритма при k = {k} и добавлении весов для соседей в зависимости от расстояния до соседа: {accuracy(y_pred, y_test):.3f}')"
   ]
  },
  {
   "cell_type": "markdown",
   "metadata": {},
   "source": [
    "При k = 10:"
   ]
  },
  {
   "cell_type": "code",
   "execution_count": 32,
   "metadata": {},
   "outputs": [
    {
     "name": "stdout",
     "output_type": "stream",
     "text": [
      "Точность алгоритма при k = 10 и добавлении весов для соседей в зависимости от расстояния до соседа: 0.867\n"
     ]
    }
   ],
   "source": [
    "k = 10\n",
    "q = 0.5\n",
    "w = 'dist_weight'\n",
    "\n",
    "y_pred = knn(X_train, y_train, X_test, k, w, q)\n",
    "\n",
    "print(f'Точность алгоритма при k = {k} и добавлении весов для соседей в зависимости от расстояния до соседа: {accuracy(y_pred, y_test):.3f}')"
   ]
  },
  {
   "cell_type": "code",
   "execution_count": 33,
   "metadata": {},
   "outputs": [
    {
     "name": "stdout",
     "output_type": "stream",
     "text": [
      "Точность алгоритма при k = 10 и добавлении весов для соседей в зависимости от расстояния до соседа: 0.867\n"
     ]
    }
   ],
   "source": [
    "k = 10\n",
    "q = 0.75\n",
    "w = 'dist_weight'\n",
    "\n",
    "y_pred = knn(X_train, y_train, X_test, k, w, q)\n",
    "\n",
    "print(f'Точность алгоритма при k = {k} и добавлении весов для соседей в зависимости от расстояния до соседа: {accuracy(y_pred, y_test):.3f}')"
   ]
  },
  {
   "cell_type": "code",
   "execution_count": 34,
   "metadata": {},
   "outputs": [
    {
     "name": "stdout",
     "output_type": "stream",
     "text": [
      "Точность алгоритма при k = 10 и добавлении весов для соседей в зависимости от расстояния до соседа: 0.833\n"
     ]
    }
   ],
   "source": [
    "k = 10\n",
    "q = 1\n",
    "w = 'dist_weight'\n",
    "\n",
    "y_pred = knn(X_train, y_train, X_test, k, w, q)\n",
    "\n",
    "print(f'Точность алгоритма при k = {k} и добавлении весов для соседей в зависимости от расстояния до соседа: {accuracy(y_pred, y_test):.3f}')"
   ]
  },
  {
   "cell_type": "markdown",
   "metadata": {},
   "source": [
    "Видим, что при k = 5 и k = 10 самый высокий результат (0.867). Но точность более устойчивая при k = 5, то есть не снижается при изменении q. При k = 10, если выбрать q = 1, точность снижается."
   ]
  },
  {
   "cell_type": "code",
   "execution_count": 35,
   "metadata": {},
   "outputs": [
    {
     "data": {
      "image/png": "[encoded data removed]",
      "text/plain": [
       "<Figure size 504x504 with 1 Axes>"
      ]
     },
     "metadata": {
      "needs_background": "light"
     },
     "output_type": "display_data"
    }
   ],
   "source": [
    "get_graph(X_train, y_train, k = 5, w = 'dist_weight', q = 1)"
   ]
  },
  {
   "cell_type": "markdown",
   "metadata": {},
   "source": [
    "#### Задание 3. Настроить оптимальное значение числа соседей для моделей из п.1 и п.2, сделать выводы."
   ]
  },
  {
   "cell_type": "code",
   "execution_count": 36,
   "metadata": {},
   "outputs": [],
   "source": [
    "neighbors = [i for i in range(1, 11)]\n",
    "w = 'dist_weight'\n",
    "q = 1\n",
    "acc = []\n",
    "\n",
    "for k in neighbors:\n",
    "    y_pred = knn(X_train, y_train, X_test, k, w, q)\n",
    "    acc.append(accuracy(y_pred, y_test))"
   ]
  },
  {
   "cell_type": "code",
   "execution_count": 37,
   "metadata": {},
   "outputs": [
    {
     "data": {
      "text/plain": [
       "0.8666666666666667"
      ]
     },
     "execution_count": 37,
     "metadata": {},
     "output_type": "execute_result"
    }
   ],
   "source": [
    "accuracy_max = np.max(acc)\n",
    "accuracy_max"
   ]
  },
  {
   "cell_type": "code",
   "execution_count": 38,
   "metadata": {},
   "outputs": [
    {
     "data": {
      "text/plain": [
       "5"
      ]
     },
     "execution_count": 38,
     "metadata": {},
     "output_type": "execute_result"
    }
   ],
   "source": [
    "best_k = acc.index(np.max(acc)) + 1\n",
    "best_k"
   ]
  },
  {
   "cell_type": "markdown",
   "metadata": {},
   "source": [
    "Можно сделать вывод, что оптимальным значением числа соседей будет 5, так как точность = 0.867. В целом, это подтвердилось ранее."
   ]
  },
  {
   "cell_type": "code",
   "execution_count": null,
   "metadata": {},
   "outputs": [],
   "source": []
  }
 ],
 "metadata": {
  "kernelspec": {
   "display_name": "Python 3",
   "language": "python",
   "name": "python3"
  },
  "language_info": {
   "codemirror_mode": {
    "name": "ipython",
    "version": 3
   },
   "file_extension": ".py",
   "mimetype": "text/x-python",
   "name": "python",
   "nbconvert_exporter": "python",
   "pygments_lexer": "ipython3",
   "version": "3.7.6"
  }
 },
 "nbformat": 4,
 "nbformat_minor": 4
}
